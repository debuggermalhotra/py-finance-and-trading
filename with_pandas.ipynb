{
 "cells": [
  {
   "cell_type": "code",
   "execution_count": 17,
   "metadata": {
    "collapsed": true
   },
   "outputs": [],
   "source": [
    "#loading the data\n",
    "import pandas_datareader as pdr\n",
    "import pandas as pd\n",
    "import datetime \n",
    "aapl=pdr.get_data_yahoo('AAPL',start=datetime.datetime(2006,10,1),end=datetime.datetime(2012,1,1))"
   ]
  },
  {
   "cell_type": "code",
   "execution_count": 21,
   "metadata": {
    "collapsed": false
   },
   "outputs": [
    {
     "data": {
      "text/html": [
       "<div>\n",
       "<table border=\"1\" class=\"dataframe\">\n",
       "  <thead>\n",
       "    <tr style=\"text-align: right;\">\n",
       "      <th></th>\n",
       "      <th>Open</th>\n",
       "      <th>High</th>\n",
       "      <th>Low</th>\n",
       "      <th>Close</th>\n",
       "      <th>Adj Close</th>\n",
       "      <th>Volume</th>\n",
       "    </tr>\n",
       "    <tr>\n",
       "      <th>Date</th>\n",
       "      <th></th>\n",
       "      <th></th>\n",
       "      <th></th>\n",
       "      <th></th>\n",
       "      <th></th>\n",
       "      <th></th>\n",
       "    </tr>\n",
       "  </thead>\n",
       "  <tbody>\n",
       "    <tr>\n",
       "      <th>2006-10-02</th>\n",
       "      <td>10.728572</td>\n",
       "      <td>10.838572</td>\n",
       "      <td>10.614285</td>\n",
       "      <td>10.694285</td>\n",
       "      <td>9.586717</td>\n",
       "      <td>178159800</td>\n",
       "    </tr>\n",
       "    <tr>\n",
       "      <th>2006-10-03</th>\n",
       "      <td>10.635715</td>\n",
       "      <td>10.707143</td>\n",
       "      <td>10.455714</td>\n",
       "      <td>10.582857</td>\n",
       "      <td>9.486828</td>\n",
       "      <td>197677200</td>\n",
       "    </tr>\n",
       "    <tr>\n",
       "      <th>2006-10-04</th>\n",
       "      <td>10.585714</td>\n",
       "      <td>10.780000</td>\n",
       "      <td>10.451428</td>\n",
       "      <td>10.768572</td>\n",
       "      <td>9.653308</td>\n",
       "      <td>207270700</td>\n",
       "    </tr>\n",
       "    <tr>\n",
       "      <th>2006-10-05</th>\n",
       "      <td>10.647142</td>\n",
       "      <td>10.880000</td>\n",
       "      <td>10.590000</td>\n",
       "      <td>10.690000</td>\n",
       "      <td>9.582876</td>\n",
       "      <td>170970800</td>\n",
       "    </tr>\n",
       "    <tr>\n",
       "      <th>2006-10-06</th>\n",
       "      <td>10.631429</td>\n",
       "      <td>10.720000</td>\n",
       "      <td>10.544286</td>\n",
       "      <td>10.602858</td>\n",
       "      <td>9.504756</td>\n",
       "      <td>116739700</td>\n",
       "    </tr>\n",
       "  </tbody>\n",
       "</table>\n",
       "</div>"
      ],
      "text/plain": [
       "                 Open       High        Low      Close  Adj Close     Volume\n",
       "Date                                                                        \n",
       "2006-10-02  10.728572  10.838572  10.614285  10.694285   9.586717  178159800\n",
       "2006-10-03  10.635715  10.707143  10.455714  10.582857   9.486828  197677200\n",
       "2006-10-04  10.585714  10.780000  10.451428  10.768572   9.653308  207270700\n",
       "2006-10-05  10.647142  10.880000  10.590000  10.690000   9.582876  170970800\n",
       "2006-10-06  10.631429  10.720000  10.544286  10.602858   9.504756  116739700"
      ]
     },
     "execution_count": 21,
     "metadata": {},
     "output_type": "execute_result"
    }
   ],
   "source": [
    "#checking the first rows of data\n",
    "aapl.head()"
   ]
  },
  {
   "cell_type": "code",
   "execution_count": 19,
   "metadata": {
    "collapsed": false
   },
   "outputs": [
    {
     "data": {
      "text/html": [
       "<div>\n",
       "<table border=\"1\" class=\"dataframe\">\n",
       "  <thead>\n",
       "    <tr style=\"text-align: right;\">\n",
       "      <th></th>\n",
       "      <th>Open</th>\n",
       "      <th>High</th>\n",
       "      <th>Low</th>\n",
       "      <th>Close</th>\n",
       "      <th>Adj Close</th>\n",
       "      <th>Volume</th>\n",
       "    </tr>\n",
       "    <tr>\n",
       "      <th>Date</th>\n",
       "      <th></th>\n",
       "      <th></th>\n",
       "      <th></th>\n",
       "      <th></th>\n",
       "      <th></th>\n",
       "      <th></th>\n",
       "    </tr>\n",
       "  </thead>\n",
       "  <tbody>\n",
       "    <tr>\n",
       "      <th>2011-12-23</th>\n",
       "      <td>57.098572</td>\n",
       "      <td>57.655716</td>\n",
       "      <td>57.070000</td>\n",
       "      <td>57.618572</td>\n",
       "      <td>51.651207</td>\n",
       "      <td>67349800</td>\n",
       "    </tr>\n",
       "    <tr>\n",
       "      <th>2011-12-27</th>\n",
       "      <td>57.585712</td>\n",
       "      <td>58.441429</td>\n",
       "      <td>57.574287</td>\n",
       "      <td>58.075714</td>\n",
       "      <td>52.061012</td>\n",
       "      <td>66269000</td>\n",
       "    </tr>\n",
       "    <tr>\n",
       "      <th>2011-12-28</th>\n",
       "      <td>58.127144</td>\n",
       "      <td>58.321430</td>\n",
       "      <td>57.334286</td>\n",
       "      <td>57.520000</td>\n",
       "      <td>51.562847</td>\n",
       "      <td>57165500</td>\n",
       "    </tr>\n",
       "    <tr>\n",
       "      <th>2011-12-29</th>\n",
       "      <td>57.628571</td>\n",
       "      <td>57.950001</td>\n",
       "      <td>57.215714</td>\n",
       "      <td>57.874287</td>\n",
       "      <td>51.880451</td>\n",
       "      <td>53994500</td>\n",
       "    </tr>\n",
       "    <tr>\n",
       "      <th>2011-12-30</th>\n",
       "      <td>57.644287</td>\n",
       "      <td>58.040001</td>\n",
       "      <td>57.641430</td>\n",
       "      <td>57.857143</td>\n",
       "      <td>51.865078</td>\n",
       "      <td>44915500</td>\n",
       "    </tr>\n",
       "  </tbody>\n",
       "</table>\n",
       "</div>"
      ],
      "text/plain": [
       "                 Open       High        Low      Close  Adj Close    Volume\n",
       "Date                                                                       \n",
       "2011-12-23  57.098572  57.655716  57.070000  57.618572  51.651207  67349800\n",
       "2011-12-27  57.585712  58.441429  57.574287  58.075714  52.061012  66269000\n",
       "2011-12-28  58.127144  58.321430  57.334286  57.520000  51.562847  57165500\n",
       "2011-12-29  57.628571  57.950001  57.215714  57.874287  51.880451  53994500\n",
       "2011-12-30  57.644287  58.040001  57.641430  57.857143  51.865078  44915500"
      ]
     },
     "execution_count": 19,
     "metadata": {},
     "output_type": "execute_result"
    }
   ],
   "source": [
    "#checking the lst rows\n",
    "aapl.tail()"
   ]
  },
  {
   "cell_type": "code",
   "execution_count": 20,
   "metadata": {
    "collapsed": false
   },
   "outputs": [
    {
     "data": {
      "text/html": [
       "<div>\n",
       "<table border=\"1\" class=\"dataframe\">\n",
       "  <thead>\n",
       "    <tr style=\"text-align: right;\">\n",
       "      <th></th>\n",
       "      <th>Open</th>\n",
       "      <th>High</th>\n",
       "      <th>Low</th>\n",
       "      <th>Close</th>\n",
       "      <th>Adj Close</th>\n",
       "      <th>Volume</th>\n",
       "    </tr>\n",
       "  </thead>\n",
       "  <tbody>\n",
       "    <tr>\n",
       "      <th>count</th>\n",
       "      <td>1323.000000</td>\n",
       "      <td>1323.000000</td>\n",
       "      <td>1323.000000</td>\n",
       "      <td>1323.000000</td>\n",
       "      <td>1323.000000</td>\n",
       "      <td>1.323000e+03</td>\n",
       "    </tr>\n",
       "    <tr>\n",
       "      <th>mean</th>\n",
       "      <td>28.901012</td>\n",
       "      <td>29.237566</td>\n",
       "      <td>28.507684</td>\n",
       "      <td>28.889151</td>\n",
       "      <td>25.897202</td>\n",
       "      <td>1.882896e+08</td>\n",
       "    </tr>\n",
       "    <tr>\n",
       "      <th>std</th>\n",
       "      <td>14.123131</td>\n",
       "      <td>14.199012</td>\n",
       "      <td>14.029758</td>\n",
       "      <td>14.119734</td>\n",
       "      <td>12.657402</td>\n",
       "      <td>1.027007e+08</td>\n",
       "    </tr>\n",
       "    <tr>\n",
       "      <th>min</th>\n",
       "      <td>10.488571</td>\n",
       "      <td>10.568571</td>\n",
       "      <td>10.371428</td>\n",
       "      <td>10.461429</td>\n",
       "      <td>9.377975</td>\n",
       "      <td>3.937360e+07</td>\n",
       "    </tr>\n",
       "    <tr>\n",
       "      <th>25%</th>\n",
       "      <td>17.457857</td>\n",
       "      <td>17.752857</td>\n",
       "      <td>17.182143</td>\n",
       "      <td>17.431429</td>\n",
       "      <td>15.626117</td>\n",
       "      <td>1.122037e+08</td>\n",
       "    </tr>\n",
       "    <tr>\n",
       "      <th>50%</th>\n",
       "      <td>25.260000</td>\n",
       "      <td>25.642857</td>\n",
       "      <td>24.725714</td>\n",
       "      <td>25.120001</td>\n",
       "      <td>22.518414</td>\n",
       "      <td>1.629866e+08</td>\n",
       "    </tr>\n",
       "    <tr>\n",
       "      <th>75%</th>\n",
       "      <td>38.777144</td>\n",
       "      <td>39.132858</td>\n",
       "      <td>38.351429</td>\n",
       "      <td>38.699999</td>\n",
       "      <td>34.691970</td>\n",
       "      <td>2.316230e+08</td>\n",
       "    </tr>\n",
       "    <tr>\n",
       "      <th>max</th>\n",
       "      <td>60.251427</td>\n",
       "      <td>60.957142</td>\n",
       "      <td>59.427143</td>\n",
       "      <td>60.320000</td>\n",
       "      <td>54.072868</td>\n",
       "      <td>8.432424e+08</td>\n",
       "    </tr>\n",
       "  </tbody>\n",
       "</table>\n",
       "</div>"
      ],
      "text/plain": [
       "              Open         High          Low        Close    Adj Close  \\\n",
       "count  1323.000000  1323.000000  1323.000000  1323.000000  1323.000000   \n",
       "mean     28.901012    29.237566    28.507684    28.889151    25.897202   \n",
       "std      14.123131    14.199012    14.029758    14.119734    12.657402   \n",
       "min      10.488571    10.568571    10.371428    10.461429     9.377975   \n",
       "25%      17.457857    17.752857    17.182143    17.431429    15.626117   \n",
       "50%      25.260000    25.642857    24.725714    25.120001    22.518414   \n",
       "75%      38.777144    39.132858    38.351429    38.699999    34.691970   \n",
       "max      60.251427    60.957142    59.427143    60.320000    54.072868   \n",
       "\n",
       "             Volume  \n",
       "count  1.323000e+03  \n",
       "mean   1.882896e+08  \n",
       "std    1.027007e+08  \n",
       "min    3.937360e+07  \n",
       "25%    1.122037e+08  \n",
       "50%    1.629866e+08  \n",
       "75%    2.316230e+08  \n",
       "max    8.432424e+08  "
      ]
     },
     "execution_count": 20,
     "metadata": {},
     "output_type": "execute_result"
    }
   ],
   "source": [
    "#Oh! man do i love describe()\n",
    "aapl.describe()"
   ]
  },
  {
   "cell_type": "markdown",
   "metadata": {},
   "source": [
    "#### Converting data to csv"
   ]
  },
  {
   "cell_type": "code",
   "execution_count": 27,
   "metadata": {
    "collapsed": false
   },
   "outputs": [],
   "source": [
    "aapl.to_csv('data/aapl_ohlc.csv')\n",
    "df=pd.read_csv('data/aapl_ohlc.csv',header=0,index_col='Date',parse_dates=True)"
   ]
  },
  {
   "cell_type": "code",
   "execution_count": 31,
   "metadata": {
    "collapsed": false
   },
   "outputs": [
    {
     "data": {
      "text/plain": [
       "DatetimeIndex(['2006-10-02', '2006-10-03', '2006-10-04', '2006-10-05',\n",
       "               '2006-10-06', '2006-10-09', '2006-10-10', '2006-10-11',\n",
       "               '2006-10-12', '2006-10-13',\n",
       "               ...\n",
       "               '2011-12-16', '2011-12-19', '2011-12-20', '2011-12-21',\n",
       "               '2011-12-22', '2011-12-23', '2011-12-27', '2011-12-28',\n",
       "               '2011-12-29', '2011-12-30'],\n",
       "              dtype='datetime64[ns]', name='Date', length=1323, freq=None)"
      ]
     },
     "execution_count": 31,
     "metadata": {},
     "output_type": "execute_result"
    }
   ],
   "source": [
    "aapl.index"
   ]
  },
  {
   "cell_type": "code",
   "execution_count": 32,
   "metadata": {
    "collapsed": false
   },
   "outputs": [
    {
     "data": {
      "text/plain": [
       "Index(['Open', 'High', 'Low', 'Close', 'Adj Close', 'Volume'], dtype='object')"
      ]
     },
     "execution_count": 32,
     "metadata": {},
     "output_type": "execute_result"
    }
   ],
   "source": [
    "aapl.columns"
   ]
  },
  {
   "cell_type": "code",
   "execution_count": 34,
   "metadata": {
    "collapsed": false
   },
   "outputs": [],
   "source": [
    "ts=aapl['Close'][-10:]"
   ]
  },
  {
   "cell_type": "code",
   "execution_count": 35,
   "metadata": {
    "collapsed": false
   },
   "outputs": [
    {
     "data": {
      "text/plain": [
       "pandas.core.series.Series"
      ]
     },
     "execution_count": 35,
     "metadata": {},
     "output_type": "execute_result"
    }
   ],
   "source": [
    "type(ts)"
   ]
  },
  {
   "cell_type": "code",
   "execution_count": null,
   "metadata": {
    "collapsed": true
   },
   "outputs": [],
   "source": []
  }
 ],
 "metadata": {
  "kernelspec": {
   "display_name": "Python 3",
   "language": "python",
   "name": "python3"
  },
  "language_info": {
   "codemirror_mode": {
    "name": "ipython",
    "version": 3
   },
   "file_extension": ".py",
   "mimetype": "text/x-python",
   "name": "python",
   "nbconvert_exporter": "python",
   "pygments_lexer": "ipython3",
   "version": "3.6.0"
  }
 },
 "nbformat": 4,
 "nbformat_minor": 2
}
